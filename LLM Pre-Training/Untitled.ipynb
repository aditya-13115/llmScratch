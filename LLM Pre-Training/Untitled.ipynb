{
 "cells": [
  {
   "cell_type": "markdown",
   "id": "e9f8c160-14df-40d2-ad8e-7f0ca7741aa1",
   "metadata": {},
   "source": [
    "# Implementation of simple variant of Self-Attention [w/ no trainable weights]."
   ]
  },
  {
   "cell_type": "code",
   "execution_count": null,
   "id": "7b6ce74d-3729-4503-b179-8549cdaa2e11",
   "metadata": {},
   "outputs": [],
   "source": []
  }
 ],
 "metadata": {
  "kernelspec": {
   "display_name": "Python 3 (ipykernel)",
   "language": "python",
   "name": "python3"
  },
  "language_info": {
   "codemirror_mode": {
    "name": "ipython",
    "version": 3
   },
   "file_extension": ".py",
   "mimetype": "text/x-python",
   "name": "python",
   "nbconvert_exporter": "python",
   "pygments_lexer": "ipython3",
   "version": "3.12.7"
  }
 },
 "nbformat": 4,
 "nbformat_minor": 5
}
